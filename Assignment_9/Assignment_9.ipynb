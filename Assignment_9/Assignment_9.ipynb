{
 "cells": [
  {
   "cell_type": "markdown",
   "id": "bb2d4e37",
   "metadata": {},
   "source": [
    "## 1.\tWrite a Python program to check if the given number is a Disarium Number"
   ]
  },
  {
   "cell_type": "code",
   "execution_count": 1,
   "id": "7fae58ef",
   "metadata": {},
   "outputs": [
    {
     "name": "stdout",
     "output_type": "stream",
     "text": [
      "175\n",
      "Disarium\n"
     ]
    }
   ],
   "source": [
    "n=int(input())\n",
    "str_n =str(n)\n",
    "sum=0\n",
    "for i in range(len(str_n)):\n",
    "    sum+=int(str_n[i])**(i+1)\n",
    "    \n",
    "if sum==n:\n",
    "    print(\"Disarium\")\n",
    "else:\n",
    "    print(\"Not Disarium\")"
   ]
  },
  {
   "cell_type": "markdown",
   "id": "fb6ccdd8",
   "metadata": {},
   "source": [
    "## 2.\tWrite a Python program to print all disarium numbers between 1 to 100"
   ]
  },
  {
   "cell_type": "code",
   "execution_count": 4,
   "id": "029ad26f",
   "metadata": {},
   "outputs": [
    {
     "name": "stdout",
     "output_type": "stream",
     "text": [
      "[1, 2, 3, 4, 5, 6, 7, 8, 9, 89]\n"
     ]
    }
   ],
   "source": [
    "disarium=[]\n",
    "for j in range(1, 100):\n",
    "    str_n = str(j)\n",
    "    sum=0\n",
    "    for i in range(len(str_n)):\n",
    "        sum+=int(str_n[i])**(i+1)\n",
    "\n",
    "    if sum==j:\n",
    "        disarium.append(j)\n",
    "print(disarium)"
   ]
  },
  {
   "cell_type": "markdown",
   "id": "f412ad48",
   "metadata": {},
   "source": [
    "## 3.\tWrite a Python program to check if the given number is Happy Number"
   ]
  },
  {
   "cell_type": "code",
   "execution_count": 7,
   "id": "ee3aa7c7",
   "metadata": {},
   "outputs": [
    {
     "name": "stdout",
     "output_type": "stream",
     "text": [
      "82 is a happy number\n"
     ]
    }
   ],
   "source": [
    "\n",
    "#isHappyNumber() will determine whether a number is happy or not    \n",
    "def isHappyNumber(num):    \n",
    "    rem = sum = 0;    \n",
    "        \n",
    "    #Calculates the sum of squares of digits    \n",
    "    while(num > 0):    \n",
    "        rem = num%10;    \n",
    "        sum = sum + (rem*rem);    \n",
    "        num = num//10;    \n",
    "    return sum;    \n",
    "        \n",
    "num = 82;    \n",
    "result = num;    \n",
    "     \n",
    "while(result != 1 and result != 4):    \n",
    "    result = isHappyNumber(result);    \n",
    "     \n",
    "#Happy number always ends with 1    \n",
    "if(result == 1):    \n",
    "    print(str(num) + \" is a happy number\");    \n",
    "#Unhappy number ends in a cycle of repeating numbers which contain 4    \n",
    "elif(result == 4):    \n",
    "    print(str(num) + \" is not a happy number\");"
   ]
  },
  {
   "cell_type": "markdown",
   "id": "d5e23b22",
   "metadata": {},
   "source": [
    "## 4.\tWrite a Python program to print all happy numbers between 1 and 100|"
   ]
  },
  {
   "cell_type": "code",
   "execution_count": 10,
   "id": "4faacc22",
   "metadata": {},
   "outputs": [
    {
     "name": "stdout",
     "output_type": "stream",
     "text": [
      "[1, 7, 10, 13, 19, 23, 28, 31, 32, 44, 49, 68, 70, 79, 82, 86, 91, 94, 97]\n"
     ]
    }
   ],
   "source": [
    "happy=[]\n",
    "#isHappyNumber() will determine whether a number is happy or not    \n",
    "def isHappyNumber(num):    \n",
    "    rem = sum = 0;    \n",
    "        \n",
    "    #Calculates the sum of squares of digits    \n",
    "    while(num > 0):    \n",
    "        rem = num%10;    \n",
    "        sum = sum + (rem*rem);    \n",
    "        num = num//10;    \n",
    "    return sum;    \n",
    "        \n",
    "#num = 82;  \n",
    "for num in range(1,100):\n",
    "    result = num;    \n",
    "\n",
    "    while(result != 1 and result != 4):    \n",
    "        result = isHappyNumber(result);    \n",
    "\n",
    "    #Happy number always ends with 1    \n",
    "    if(result == 1):    \n",
    "        happy.append(num)  \n",
    "\n",
    "print(happy)"
   ]
  },
  {
   "cell_type": "markdown",
   "id": "3a8f246f",
   "metadata": {},
   "source": [
    "## 5.\tWrite a Python program to determine whether the given number is a Harshad Number"
   ]
  },
  {
   "cell_type": "code",
   "execution_count": 11,
   "id": "7907e66e",
   "metadata": {},
   "outputs": [
    {
     "name": "stdout",
     "output_type": "stream",
     "text": [
      "Enter the Number to Check Harshad Number = 156\n",
      "\n",
      "156 is a Harshad Number.\n"
     ]
    }
   ],
   "source": [
    "Number = int(input(\"Enter the Number to Check Harshad Number = \"))\n",
    "Sum = 0\n",
    "rem = 0\n",
    "\n",
    "Temp = Number\n",
    "while Temp > 0:\n",
    "    rem = Temp % 10\n",
    "    Sum = Sum + rem\n",
    "    Temp = Temp // 10\n",
    "\n",
    "#print(\"The Sum of the Digits = %d\" %Sum)\n",
    "\n",
    "if Number % Sum == 0:\n",
    "    print(\"\\n%d is a Harshad Number.\" %Number)\n",
    "else:\n",
    "    print(\"%d is Not a Harshad Number.\" %Number)"
   ]
  },
  {
   "cell_type": "markdown",
   "id": "55dd4f22",
   "metadata": {},
   "source": [
    "## 6.\tWrite a Python program to print all pronic numbers between 1 and 100"
   ]
  },
  {
   "cell_type": "code",
   "execution_count": 12,
   "id": "39a778e9",
   "metadata": {},
   "outputs": [
    {
     "name": "stdout",
     "output_type": "stream",
     "text": [
      "Pronic numbers between 1 and 100: \n",
      "2\n",
      " \n",
      "6\n",
      " \n",
      "12\n",
      " \n",
      "20\n",
      " \n",
      "30\n",
      " \n",
      "42\n",
      " \n",
      "56\n",
      " \n",
      "72\n",
      " \n",
      "90\n",
      " \n"
     ]
    }
   ],
   "source": [
    "def isPronicNumber(num):    \n",
    "    flag = False;    \n",
    "        \n",
    "    for j in range(1, num+1):    \n",
    "        #Checks for pronic number by multiplying consecutive numbers    \n",
    "        if((j*(j+1)) == num):    \n",
    "            flag = True;    \n",
    "            break;    \n",
    "    return flag;    \n",
    "     \n",
    "#Displays pronic numbers between 1 and 100    \n",
    "print(\"Pronic numbers between 1 and 100: \");    \n",
    "for i in range(1, 101):    \n",
    "    if(isPronicNumber(i)):    \n",
    "        print(i),    \n",
    "        print(\" \")"
   ]
  },
  {
   "cell_type": "code",
   "execution_count": null,
   "id": "a137bf2f",
   "metadata": {},
   "outputs": [],
   "source": []
  }
 ],
 "metadata": {
  "kernelspec": {
   "display_name": "Python 3 (ipykernel)",
   "language": "python",
   "name": "python3"
  },
  "language_info": {
   "codemirror_mode": {
    "name": "ipython",
    "version": 3
   },
   "file_extension": ".py",
   "mimetype": "text/x-python",
   "name": "python",
   "nbconvert_exporter": "python",
   "pygments_lexer": "ipython3",
   "version": "3.9.0"
  }
 },
 "nbformat": 4,
 "nbformat_minor": 5
}
