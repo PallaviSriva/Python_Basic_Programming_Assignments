{
 "cells": [
  {
   "cell_type": "markdown",
   "id": "4b53776e",
   "metadata": {},
   "source": [
    "## 1.\tWrite a Python Program to Check if a Number is Positive, Negative or Zero"
   ]
  },
  {
   "cell_type": "code",
   "execution_count": 1,
   "id": "bbd3cdae",
   "metadata": {},
   "outputs": [
    {
     "name": "stdout",
     "output_type": "stream",
     "text": [
      "5\n",
      "Positive\n"
     ]
    }
   ],
   "source": [
    "n = int(input())\n",
    "if n>0:\n",
    "    print(\"Positive\")\n",
    "elif n<0:\n",
    "    print(\"Negative\")\n",
    "else:\n",
    "    print(\"Zero\")"
   ]
  },
  {
   "cell_type": "markdown",
   "id": "7b3c04b9",
   "metadata": {},
   "source": [
    "## 2.\tWrite a Python Program to Check if a Number is Odd or Even"
   ]
  },
  {
   "cell_type": "code",
   "execution_count": 2,
   "id": "ec6207c9",
   "metadata": {},
   "outputs": [
    {
     "name": "stdout",
     "output_type": "stream",
     "text": [
      "8\n",
      "Even\n"
     ]
    }
   ],
   "source": [
    "n = int(input())\n",
    "if n%2 == 0:\n",
    "    print(\"Even\")\n",
    "else:\n",
    "    print(\"Odd\")"
   ]
  },
  {
   "cell_type": "markdown",
   "id": "e865237a",
   "metadata": {},
   "source": [
    "## 3.\tWrite a Python Program to Check Leap Year"
   ]
  },
  {
   "cell_type": "code",
   "execution_count": 5,
   "id": "fb421cda",
   "metadata": {},
   "outputs": [
    {
     "name": "stdout",
     "output_type": "stream",
     "text": [
      "2022\n",
      "Not Leap Year\n"
     ]
    }
   ],
   "source": [
    "year = int(input())\n",
    "\n",
    "if (year%4 == 0 and year%100 != 0) or (year%400 == 0) :\n",
    "    print(\"Leap Year\")\n",
    "else:\n",
    "    print(\"Not Leap Year\")"
   ]
  },
  {
   "cell_type": "markdown",
   "id": "b258c761",
   "metadata": {},
   "source": [
    "## 4.\tWrite a Python Program to Check Prime Number"
   ]
  },
  {
   "cell_type": "code",
   "execution_count": 8,
   "id": "5beaa842",
   "metadata": {},
   "outputs": [
    {
     "name": "stdout",
     "output_type": "stream",
     "text": [
      "8\n",
      "Not Prime\n"
     ]
    }
   ],
   "source": [
    "n = int(input())\n",
    "\n",
    "flag =0\n",
    "for i in range(2,n//2+1):\n",
    "    if n%i==0:\n",
    "        flag = 1 \n",
    "        break\n",
    "        \n",
    "if not flag:\n",
    "    print(\"Prime\")\n",
    "else:\n",
    "    print(\"Not Prime\")"
   ]
  },
  {
   "cell_type": "markdown",
   "id": "f0d2fa73",
   "metadata": {},
   "source": [
    "## 5.\tWrite a Python Program to Print all Prime Numbers in an Interval of 1-10000"
   ]
  },
  {
   "cell_type": "code",
   "execution_count": null,
   "id": "2d8e5fad",
   "metadata": {},
   "outputs": [],
   "source": [
    "for n in range(1, 10000):\n",
    "    flag = 0\n",
    "    for i in range(2,n//2+1):\n",
    "        if n%i == 0:\n",
    "            flag = 1\n",
    "            break\n",
    "    \n",
    "    if not flag:\n",
    "        "
   ]
  }
 ],
 "metadata": {
  "kernelspec": {
   "display_name": "Python 3 (ipykernel)",
   "language": "python",
   "name": "python3"
  },
  "language_info": {
   "codemirror_mode": {
    "name": "ipython",
    "version": 3
   },
   "file_extension": ".py",
   "mimetype": "text/x-python",
   "name": "python",
   "nbconvert_exporter": "python",
   "pygments_lexer": "ipython3",
   "version": "3.9.0"
  }
 },
 "nbformat": 4,
 "nbformat_minor": 5
}
