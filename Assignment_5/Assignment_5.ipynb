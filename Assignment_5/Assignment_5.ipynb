{
 "cells": [
  {
   "cell_type": "markdown",
   "id": "4e741e5a",
   "metadata": {},
   "source": [
    "## 1.\tWrite a Python Program to Find LCM"
   ]
  },
  {
   "cell_type": "code",
   "execution_count": 2,
   "id": "12debe3b",
   "metadata": {},
   "outputs": [
    {
     "name": "stdout",
     "output_type": "stream",
     "text": [
      "5\n",
      "3\n",
      "15\n"
     ]
    }
   ],
   "source": [
    "n1 = int(input())\n",
    "n2 = int(input())\n",
    "\n",
    "if n1 > n2:  \n",
    "    greater = n1  \n",
    "else:  \n",
    "    greater = n2 \n",
    "while(True):  \n",
    "    if((greater % n1 == 0) and (greater % n2 == 0)):  \n",
    "        lcm = greater  \n",
    "        break  \n",
    "    greater += 1  \n",
    "\n",
    "print(lcm)"
   ]
  },
  {
   "cell_type": "markdown",
   "id": "4020ea27",
   "metadata": {},
   "source": [
    "## 2.\tWrite a Python Program to Find HCF"
   ]
  },
  {
   "cell_type": "code",
   "execution_count": 6,
   "id": "95c95159",
   "metadata": {},
   "outputs": [
    {
     "name": "stdout",
     "output_type": "stream",
     "text": [
      "8\n",
      "4\n",
      "hcf 4\n"
     ]
    }
   ],
   "source": [
    "n1=int(input())\n",
    "n2=int(input())\n",
    "\n",
    "if n1 > n2:\n",
    "    smaller = n2\n",
    "else:\n",
    "    smaller = n1\n",
    "for i in range(1, smaller+1):\n",
    "    if((n1 % i == 0) and (n2 % i == 0)):\n",
    "        hcf = i \n",
    "print('hcf',hcf)"
   ]
  },
  {
   "cell_type": "markdown",
   "id": "b4a875e1",
   "metadata": {},
   "source": [
    "## 3.\tWrite a Python Program to Convert Decimal to Binary, Octal and Hexadecimal"
   ]
  },
  {
   "cell_type": "code",
   "execution_count": 7,
   "id": "15355126",
   "metadata": {},
   "outputs": [
    {
     "name": "stdout",
     "output_type": "stream",
     "text": [
      "52\n",
      "Binary 0b110100\n",
      "Octal 0o64\n",
      "Hexadecimal 0x34\n"
     ]
    }
   ],
   "source": [
    "n = int(input())\n",
    "print(\"Binary\", bin(n))\n",
    "print(\"Octal\", oct(n))\n",
    "print(\"Hexadecimal\", hex(n))"
   ]
  },
  {
   "cell_type": "markdown",
   "id": "be2084f8",
   "metadata": {},
   "source": [
    "## 4.\tWrite a Python Program To Find ASCII value of a character"
   ]
  },
  {
   "cell_type": "code",
   "execution_count": 9,
   "id": "c2894363",
   "metadata": {},
   "outputs": [
    {
     "name": "stdout",
     "output_type": "stream",
     "text": [
      "a\n",
      "ASCII Value 97\n"
     ]
    }
   ],
   "source": [
    "n = input()\n",
    "print(\"ASCII Value\", ord(n))"
   ]
  },
  {
   "cell_type": "markdown",
   "id": "207a1b3a",
   "metadata": {},
   "source": [
    "## 5.\tWrite a Python Program to Make a Simple Calculator with 4 basic mathematical operations"
   ]
  },
  {
   "cell_type": "code",
   "execution_count": 10,
   "id": "a82e2410",
   "metadata": {},
   "outputs": [
    {
     "name": "stdout",
     "output_type": "stream",
     "text": [
      "Select operation.\n",
      "1.Add\n",
      "2.Subtract\n",
      "3.Multiply\n",
      "4.Divide\n",
      "Enter choice(1/2/3/4): 1\n",
      "Enter first number: 5\n",
      "Enter second number: 5\n",
      "5.0 + 5.0 = 10.0\n",
      "Let's do next calculation? (yes/no): yes\n",
      "Enter choice(1/2/3/4): 2\n",
      "Enter first number: 0\n",
      "Enter second number: 4\n",
      "0.0 - 4.0 = -4.0\n",
      "Let's do next calculation? (yes/no): no\n"
     ]
    }
   ],
   "source": [
    "# Program make a simple calculator\n",
    "\n",
    "# This function adds two numbers\n",
    "def add(x, y):\n",
    "    return x + y\n",
    "\n",
    "# This function subtracts two numbers\n",
    "def subtract(x, y):\n",
    "    return x - y\n",
    "\n",
    "# This function multiplies two numbers\n",
    "def multiply(x, y):\n",
    "    return x * y\n",
    "\n",
    "# This function divides two numbers\n",
    "def divide(x, y):\n",
    "    return x / y\n",
    "\n",
    "\n",
    "print(\"Select operation.\")\n",
    "print(\"1.Add\")\n",
    "print(\"2.Subtract\")\n",
    "print(\"3.Multiply\")\n",
    "print(\"4.Divide\")\n",
    "\n",
    "while True:\n",
    "    # take input from the user\n",
    "    choice = input(\"Enter choice(1/2/3/4): \")\n",
    "\n",
    "    # check if choice is one of the four options\n",
    "    if choice in ('1', '2', '3', '4'):\n",
    "        num1 = float(input(\"Enter first number: \"))\n",
    "        num2 = float(input(\"Enter second number: \"))\n",
    "\n",
    "        if choice == '1':\n",
    "            print(num1, \"+\", num2, \"=\", add(num1, num2))\n",
    "\n",
    "        elif choice == '2':\n",
    "            print(num1, \"-\", num2, \"=\", subtract(num1, num2))\n",
    "\n",
    "        elif choice == '3':\n",
    "            print(num1, \"*\", num2, \"=\", multiply(num1, num2))\n",
    "\n",
    "        elif choice == '4':\n",
    "            print(num1, \"/\", num2, \"=\", divide(num1, num2))\n",
    "        \n",
    "        # check if user wants another calculation\n",
    "        # break the while loop if answer is no\n",
    "        next_calculation = input(\"Let's do next calculation? (yes/no): \")\n",
    "        if next_calculation == \"no\":\n",
    "            break\n",
    "    \n",
    "    else:\n",
    "        print(\"Invalid Input\")"
   ]
  },
  {
   "cell_type": "code",
   "execution_count": null,
   "id": "fef56f4e",
   "metadata": {},
   "outputs": [],
   "source": []
  }
 ],
 "metadata": {
  "kernelspec": {
   "display_name": "Python 3 (ipykernel)",
   "language": "python",
   "name": "python3"
  },
  "language_info": {
   "codemirror_mode": {
    "name": "ipython",
    "version": 3
   },
   "file_extension": ".py",
   "mimetype": "text/x-python",
   "name": "python",
   "nbconvert_exporter": "python",
   "pygments_lexer": "ipython3",
   "version": "3.9.0"
  }
 },
 "nbformat": 4,
 "nbformat_minor": 5
}
