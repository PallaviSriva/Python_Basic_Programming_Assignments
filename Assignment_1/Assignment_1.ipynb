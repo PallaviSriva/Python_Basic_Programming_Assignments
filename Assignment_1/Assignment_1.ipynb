{
 "cells": [
  {
   "cell_type": "markdown",
   "id": "54de8e0b",
   "metadata": {},
   "source": [
    "#### Write a Python program to print \"Hello Python\""
   ]
  },
  {
   "cell_type": "code",
   "execution_count": 1,
   "id": "f62eb7d5",
   "metadata": {},
   "outputs": [
    {
     "name": "stdout",
     "output_type": "stream",
     "text": [
      "Hello Python\n"
     ]
    }
   ],
   "source": [
    "print(\"Hello Python\")"
   ]
  },
  {
   "cell_type": "markdown",
   "id": "4f2c4036",
   "metadata": {},
   "source": [
    "#### Write a Python program to do arithmetical operations addition and division."
   ]
  },
  {
   "cell_type": "code",
   "execution_count": 2,
   "id": "31bfe2ea",
   "metadata": {},
   "outputs": [
    {
     "name": "stdout",
     "output_type": "stream",
     "text": [
      "9\n",
      "2\n"
     ]
    }
   ],
   "source": [
    "a = 6\n",
    "b = 3\n",
    "print(a+b)\n",
    "print(a//b)"
   ]
  },
  {
   "cell_type": "markdown",
   "id": "c3bab3b1",
   "metadata": {},
   "source": [
    "#### Write a Python program to find the area of a triangle"
   ]
  },
  {
   "cell_type": "code",
   "execution_count": 3,
   "id": "90a24799",
   "metadata": {},
   "outputs": [
    {
     "name": "stdout",
     "output_type": "stream",
     "text": [
      "2.9047375096555625\n"
     ]
    }
   ],
   "source": [
    "a = 2\n",
    "b = 3\n",
    "c = 4\n",
    "\n",
    "s = (a + b + c) / 2\n",
    "area = (s*(s-a)*(s-b)*(s-c)) ** 0.5\n",
    "print(area)"
   ]
  },
  {
   "cell_type": "markdown",
   "id": "07e3dc19",
   "metadata": {},
   "source": [
    "#### Write a Python program to swap two variables"
   ]
  },
  {
   "cell_type": "code",
   "execution_count": 6,
   "id": "52298651",
   "metadata": {},
   "outputs": [
    {
     "name": "stdout",
     "output_type": "stream",
     "text": [
      "Before Swapping:\n",
      "3 5\n",
      "After Swapping:\n",
      "5 3\n"
     ]
    }
   ],
   "source": [
    "a = 3\n",
    "b = 5\n",
    "print(\"Before Swapping:\")\n",
    "print(a,b)\n",
    "a,b = b,a\n",
    "print(\"After Swapping:\")\n",
    "print(a,b)"
   ]
  },
  {
   "cell_type": "markdown",
   "id": "7bc80baa",
   "metadata": {},
   "source": [
    "#### Write a Python program to generate a random number"
   ]
  },
  {
   "cell_type": "code",
   "execution_count": 7,
   "id": "28bfddc2",
   "metadata": {},
   "outputs": [
    {
     "name": "stdout",
     "output_type": "stream",
     "text": [
      "0.9476517768306283\n"
     ]
    }
   ],
   "source": [
    "import random\n",
    "n = random.random()\n",
    "print(n)"
   ]
  },
  {
   "cell_type": "code",
   "execution_count": null,
   "id": "7e202816",
   "metadata": {},
   "outputs": [],
   "source": []
  }
 ],
 "metadata": {
  "kernelspec": {
   "display_name": "Python 3 (ipykernel)",
   "language": "python",
   "name": "python3"
  },
  "language_info": {
   "codemirror_mode": {
    "name": "ipython",
    "version": 3
   },
   "file_extension": ".py",
   "mimetype": "text/x-python",
   "name": "python",
   "nbconvert_exporter": "python",
   "pygments_lexer": "ipython3",
   "version": "3.9.0"
  }
 },
 "nbformat": 4,
 "nbformat_minor": 5
}
