{
 "cells": [
  {
   "cell_type": "markdown",
   "id": "6a2dfcf8",
   "metadata": {},
   "source": [
    "## 1.\tWrite a Python Program to find sum of array"
   ]
  },
  {
   "cell_type": "code",
   "execution_count": 1,
   "id": "f7aefa65",
   "metadata": {},
   "outputs": [
    {
     "name": "stdout",
     "output_type": "stream",
     "text": [
      "15\n"
     ]
    }
   ],
   "source": [
    "arr = [1,2,3,4,5]\n",
    "print(sum(arr))"
   ]
  },
  {
   "cell_type": "markdown",
   "id": "527ffd7a",
   "metadata": {},
   "source": [
    "## 2.\tWrite a Python Program to find largest element in an array"
   ]
  },
  {
   "cell_type": "code",
   "execution_count": 2,
   "id": "8f6fef9f",
   "metadata": {},
   "outputs": [
    {
     "name": "stdout",
     "output_type": "stream",
     "text": [
      "7\n"
     ]
    }
   ],
   "source": [
    "arr = [1,6,0,7,3]\n",
    "maximum = arr[0]\n",
    "for i in range(1,len(arr)):\n",
    "    if arr[i]>maximum:\n",
    "        maximum=arr[i]\n",
    "print(maximum)"
   ]
  },
  {
   "cell_type": "markdown",
   "id": "2c62f4d2",
   "metadata": {},
   "source": [
    "## 3.\tWrite a Python Program for array rotation"
   ]
  },
  {
   "cell_type": "code",
   "execution_count": 3,
   "id": "83567137",
   "metadata": {},
   "outputs": [
    {
     "name": "stdout",
     "output_type": "stream",
     "text": [
      "[5, 4, 3, 2, 1]\n"
     ]
    }
   ],
   "source": [
    "arr = [1,2,3,4,5]\n",
    "print(arr[::-1])"
   ]
  },
  {
   "cell_type": "markdown",
   "id": "efb57c94",
   "metadata": {},
   "source": [
    "## 4.\tWrite a Python Program to Split the array and add the first part to the end"
   ]
  },
  {
   "cell_type": "code",
   "execution_count": 1,
   "id": "ce5efa56",
   "metadata": {},
   "outputs": [
    {
     "name": "stdout",
     "output_type": "stream",
     "text": [
      "5 6 52 36 12 10 "
     ]
    }
   ],
   "source": [
    "def splitArr(arr, n, k): \n",
    "    for i in range(0, k): \n",
    "        x = arr[0]\n",
    "        for j in range(0, n-1):\n",
    "            arr[j] = arr[j + 1]\n",
    "          \n",
    "        arr[n-1] = x\n",
    "          \n",
    "  \n",
    "\n",
    "arr = [12, 10, 5, 6, 52, 36]\n",
    "n = len(arr)\n",
    "position = 2\n",
    "  \n",
    "splitArr(arr, n, position)\n",
    "  \n",
    "for i in range(0, n): \n",
    "    print(arr[i], end = ' ')"
   ]
  },
  {
   "cell_type": "markdown",
   "id": "aee13c67",
   "metadata": {},
   "source": [
    "## 5.\tWrite a Python Program to check if given array is Monotonic"
   ]
  },
  {
   "cell_type": "code",
   "execution_count": null,
   "id": "d7cb05b1",
   "metadata": {},
   "outputs": [],
   "source": [
    "l = [1,2,3,4,5]\n",
    "if l==sorted(l) or l==sortedl"
   ]
  }
 ],
 "metadata": {
  "kernelspec": {
   "display_name": "Python 3 (ipykernel)",
   "language": "python",
   "name": "python3"
  },
  "language_info": {
   "codemirror_mode": {
    "name": "ipython",
    "version": 3
   },
   "file_extension": ".py",
   "mimetype": "text/x-python",
   "name": "python",
   "nbconvert_exporter": "python",
   "pygments_lexer": "ipython3",
   "version": "3.9.0"
  }
 },
 "nbformat": 4,
 "nbformat_minor": 5
}
